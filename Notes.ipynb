{
 "cells": [
  {
   "cell_type": "code",
   "execution_count": 1,
   "metadata": {},
   "outputs": [],
   "source": [
    "%load_ext autoreload\n",
    "%autoreload 2\n",
    "%matplotlib inline"
   ]
  },
  {
   "cell_type": "code",
   "execution_count": 26,
   "metadata": {},
   "outputs": [],
   "source": [
    "import numpy as np\n",
    "import numpy.random as npr\n",
    "import matplotlib.pyplot as plt\n",
    "import itertools"
   ]
  },
  {
   "cell_type": "code",
   "execution_count": 22,
   "metadata": {},
   "outputs": [
    {
     "data": {
      "text/plain": [
       "array([[ 0.75108292, -0.00572985, -0.01261375],\n",
       "       [ 0.8835384 ,  0.19091005,  0.06149455],\n",
       "       [ 0.9140828 ,  0.03773797,  0.06786713],\n",
       "       [ 0.82624856,  0.18299147,  0.06130813],\n",
       "       [ 0.87319127,  0.00123385,  0.20870535],\n",
       "       [ 0.79631258,  0.08389846,  0.06216236],\n",
       "       [ 0.79573549,  0.09652194,  0.11564664],\n",
       "       [ 0.80279823,  0.12884641, -0.072918  ],\n",
       "       [ 0.72428747,  0.11396794,  0.0915672 ],\n",
       "       [ 0.78460422, -0.02344902,  0.10056661]])"
      ]
     },
     "execution_count": 22,
     "metadata": {},
     "output_type": "execute_result"
    }
   ],
   "source": [
    "temp = npr.multivariate_normal([0.8,0.1,0.1],0.005*np.eye(3),size=10)\n",
    "temp"
   ]
  },
  {
   "cell_type": "code",
   "execution_count": 23,
   "metadata": {},
   "outputs": [],
   "source": [
    "temp2 = abs(temp) * (1/np.sum(abs(temp),axis=1))[:,np.newaxis]"
   ]
  },
  {
   "cell_type": "code",
   "execution_count": 24,
   "metadata": {},
   "outputs": [
    {
     "data": {
      "text/plain": [
       "array([[0.97615939, 0.00744691, 0.0163937 ],\n",
       "       [0.7778017 , 0.16806305, 0.05413524],\n",
       "       [0.89643391, 0.03700933, 0.06655676],\n",
       "       [0.77179952, 0.1709325 , 0.05726798],\n",
       "       [0.80617367, 0.00113915, 0.19268717],\n",
       "       [0.84500749, 0.08902889, 0.06596361],\n",
       "       [0.78949527, 0.09576501, 0.11473973],\n",
       "       [0.79915199, 0.1282612 , 0.07258682],\n",
       "       [0.77895231, 0.12256955, 0.09847814],\n",
       "       [0.86351209, 0.02580729, 0.11068062]])"
      ]
     },
     "execution_count": 24,
     "metadata": {},
     "output_type": "execute_result"
    }
   ],
   "source": [
    "temp2"
   ]
  },
  {
   "cell_type": "code",
   "execution_count": 34,
   "metadata": {},
   "outputs": [],
   "source": [
    "all_perm=np.array((list(itertools.permutations(list(range(3))))))\n",
    "b=all_perm[np.random.randint(0,6,size=10)]\n",
    "temp3 = (temp2.flatten()[(b+3*np.arange(10)[...,np.newaxis]).flatten()]).reshape(temp2.shape)"
   ]
  },
  {
   "cell_type": "code",
   "execution_count": 35,
   "metadata": {},
   "outputs": [
    {
     "data": {
      "text/plain": [
       "array([[0.00744691, 0.0163937 , 0.97615939],\n",
       "       [0.05413524, 0.7778017 , 0.16806305],\n",
       "       [0.89643391, 0.03700933, 0.06655676],\n",
       "       [0.77179952, 0.05726798, 0.1709325 ],\n",
       "       [0.80617367, 0.19268717, 0.00113915],\n",
       "       [0.06596361, 0.84500749, 0.08902889],\n",
       "       [0.09576501, 0.78949527, 0.11473973],\n",
       "       [0.07258682, 0.1282612 , 0.79915199],\n",
       "       [0.77895231, 0.09847814, 0.12256955],\n",
       "       [0.02580729, 0.86351209, 0.11068062]])"
      ]
     },
     "execution_count": 35,
     "metadata": {},
     "output_type": "execute_result"
    }
   ],
   "source": [
    "temp3"
   ]
  },
  {
   "cell_type": "code",
   "execution_count": 36,
   "metadata": {},
   "outputs": [],
   "source": [
    "from sklearn.decomposition import PCA, IncrementalPCA\n",
    "from sklearn.cluster import KMeans"
   ]
  },
  {
   "cell_type": "code",
   "execution_count": 37,
   "metadata": {},
   "outputs": [],
   "source": [
    "from resource_environment import Bandit_Resource_Environment"
   ]
  },
  {
   "cell_type": "code",
   "execution_count": 62,
   "metadata": {},
   "outputs": [],
   "source": [
    "env = Bandit_Resource_Environment(num_users=10)"
   ]
  },
  {
   "cell_type": "code",
   "execution_count": 63,
   "metadata": {},
   "outputs": [],
   "source": [
    "X = env.user_prefs"
   ]
  },
  {
   "cell_type": "code",
   "execution_count": 64,
   "metadata": {},
   "outputs": [],
   "source": [
    "n_components = 2\n",
    "ipca = IncrementalPCA(n_components=n_components, batch_size=10)\n",
    "# ipca = PCA(n_components=n_components)\n",
    "X_ipca = ipca.fit_transform(X)"
   ]
  },
  {
   "cell_type": "code",
   "execution_count": 65,
   "metadata": {},
   "outputs": [],
   "source": [
    "y_pred = KMeans(n_clusters=3, random_state=170).fit_predict(X_ipca)"
   ]
  },
  {
   "cell_type": "code",
   "execution_count": 66,
   "metadata": {},
   "outputs": [
    {
     "data": {
      "image/png": "[encoded data removed]",
      "text/plain": [
       "<Figure size 432x288 with 1 Axes>"
      ]
     },
     "metadata": {
      "needs_background": "light"
     },
     "output_type": "display_data"
    }
   ],
   "source": [
    "plt.scatter(X_ipca[:, 0], X_ipca[:, 1], c=y_pred)\n",
    "plt.show()"
   ]
  },
  {
   "cell_type": "code",
   "execution_count": 67,
   "metadata": {},
   "outputs": [],
   "source": [
    "cntxts = env.user_context"
   ]
  },
  {
   "cell_type": "code",
   "execution_count": 68,
   "metadata": {},
   "outputs": [
    {
     "data": {
      "image/png": "[encoded data removed]",
      "text/plain": [
       "<Figure size 432x288 with 1 Axes>"
      ]
     },
     "metadata": {
      "needs_background": "light"
     },
     "output_type": "display_data"
    }
   ],
   "source": [
    "plt.plot(cntxts,'.')\n",
    "plt.show()"
   ]
  },
  {
   "cell_type": "code",
   "execution_count": 69,
   "metadata": {},
   "outputs": [
    {
     "data": {
      "text/plain": [
       "array([0.65468811, 0.9715553 , 0.84849531, 0.96686843, 0.38661238,\n",
       "       0.71066369, 0.16062362, 0.46474363, 0.35869857, 0.0424266 ])"
      ]
     },
     "execution_count": 69,
     "metadata": {},
     "output_type": "execute_result"
    }
   ],
   "source": [
    "cntxts"
   ]
  },
  {
   "cell_type": "code",
   "execution_count": 70,
   "metadata": {},
   "outputs": [
    {
     "data": {
      "text/plain": [
       "array([[0.80201199, 0.07154175, 0.12644626],\n",
       "       [0.723963  , 0.20746133, 0.06857567]])"
      ]
     },
     "execution_count": 70,
     "metadata": {},
     "output_type": "execute_result"
    }
   ],
   "source": [
    "X[cntxts<0.3333]"
   ]
  },
  {
   "cell_type": "code",
   "execution_count": 71,
   "metadata": {},
   "outputs": [
    {
     "data": {
      "text/plain": [
       "array([[0.05689128, 0.80005007, 0.14305864],\n",
       "       [0.07485897, 0.84110555, 0.08403548],\n",
       "       [0.10467475, 0.79882091, 0.09650433],\n",
       "       [0.05989345, 0.75865815, 0.1814484 ]])"
      ]
     },
     "execution_count": 71,
     "metadata": {},
     "output_type": "execute_result"
    }
   ],
   "source": [
    "X[(cntxts>0.333333)&(cntxts<0.666666)]"
   ]
  },
  {
   "cell_type": "code",
   "execution_count": 72,
   "metadata": {},
   "outputs": [
    {
     "data": {
      "text/plain": [
       "array([[0.03186193, 0.12442882, 0.84370925],\n",
       "       [0.11926196, 0.19475932, 0.68597872],\n",
       "       [0.10891083, 0.18263828, 0.70845089],\n",
       "       [0.12609663, 0.14226422, 0.73163915]])"
      ]
     },
     "execution_count": 72,
     "metadata": {},
     "output_type": "execute_result"
    }
   ],
   "source": [
    "X[(cntxts>0.666666)]"
   ]
  },
  {
   "cell_type": "code",
   "execution_count": null,
   "metadata": {},
   "outputs": [],
   "source": []
  }
 ],
 "metadata": {
  "kernelspec": {
   "display_name": "Python 3",
   "language": "python",
   "name": "python3"
  },
  "language_info": {
   "codemirror_mode": {
    "name": "ipython",
    "version": 3
   },
   "file_extension": ".py",
   "mimetype": "text/x-python",
   "name": "python",
   "nbconvert_exporter": "python",
   "pygments_lexer": "ipython3",
   "version": "3.7.3"
  }
 },
 "nbformat": 4,
 "nbformat_minor": 2
}
